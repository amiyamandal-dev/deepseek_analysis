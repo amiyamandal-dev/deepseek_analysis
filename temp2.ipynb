{
 "cells": [
  {
   "cell_type": "code",
   "execution_count": 3,
   "metadata": {},
   "outputs": [],
   "source": [
    "import os\n",
    "import random\n",
    "import subprocess\n",
    "from typing import List, Dict, Any\n",
    "\n",
    "import numpy as np\n",
    "import pandas as pd\n",
    "\n",
    "# Hugging Face\n",
    "from datasets import load_dataset\n",
    "\n",
    "# Sentence Transformers for Embeddings\n",
    "from sentence_transformers import SentenceTransformer\n",
    "\n",
    "import evaluate\n",
    "\n",
    "# Chroma\n",
    "import chromadb\n",
    "from chromadb.config import Settings\n",
    "\n",
    "# BEIR\n",
    "from beir.retrieval.evaluation import EvaluateRetrieval\n",
    "\n",
    "import ollama\n"
   ]
  },
  {
   "cell_type": "code",
   "execution_count": 3,
   "metadata": {},
   "outputs": [
    {
     "data": {
      "application/vnd.jupyter.widget-view+json": {
       "model_id": "576468bd647a450da3d5688f79d63681",
       "version_major": 2,
       "version_minor": 0
      },
      "text/plain": [
       "modules.json:   0%|          | 0.00/349 [00:00<?, ?B/s]"
      ]
     },
     "metadata": {},
     "output_type": "display_data"
    },
    {
     "data": {
      "application/vnd.jupyter.widget-view+json": {
       "model_id": "27594670c9f44f5fbfa982c80a2425f8",
       "version_major": 2,
       "version_minor": 0
      },
      "text/plain": [
       "config_sentence_transformers.json:   0%|          | 0.00/116 [00:00<?, ?B/s]"
      ]
     },
     "metadata": {},
     "output_type": "display_data"
    },
    {
     "data": {
      "application/vnd.jupyter.widget-view+json": {
       "model_id": "5015da7bcb234486bf029b6b2e57e503",
       "version_major": 2,
       "version_minor": 0
      },
      "text/plain": [
       "README.md:   0%|          | 0.00/10.7k [00:00<?, ?B/s]"
      ]
     },
     "metadata": {},
     "output_type": "display_data"
    },
    {
     "data": {
      "application/vnd.jupyter.widget-view+json": {
       "model_id": "75653cea523546e39152d63488fa5808",
       "version_major": 2,
       "version_minor": 0
      },
      "text/plain": [
       "sentence_bert_config.json:   0%|          | 0.00/53.0 [00:00<?, ?B/s]"
      ]
     },
     "metadata": {},
     "output_type": "display_data"
    },
    {
     "data": {
      "application/vnd.jupyter.widget-view+json": {
       "model_id": "a1484d443d864a68b4513b64f370cd33",
       "version_major": 2,
       "version_minor": 0
      },
      "text/plain": [
       "config.json:   0%|          | 0.00/612 [00:00<?, ?B/s]"
      ]
     },
     "metadata": {},
     "output_type": "display_data"
    },
    {
     "data": {
      "application/vnd.jupyter.widget-view+json": {
       "model_id": "08b9bcc41bfd473eb26b5657fe2495fc",
       "version_major": 2,
       "version_minor": 0
      },
      "text/plain": [
       "model.safetensors:   0%|          | 0.00/90.9M [00:00<?, ?B/s]"
      ]
     },
     "metadata": {},
     "output_type": "display_data"
    },
    {
     "data": {
      "application/vnd.jupyter.widget-view+json": {
       "model_id": "988bc3e7df314bc5a9e42b13f0c8c577",
       "version_major": 2,
       "version_minor": 0
      },
      "text/plain": [
       "tokenizer_config.json:   0%|          | 0.00/350 [00:00<?, ?B/s]"
      ]
     },
     "metadata": {},
     "output_type": "display_data"
    },
    {
     "data": {
      "application/vnd.jupyter.widget-view+json": {
       "model_id": "4cf3d6b38cd545a1bef5ee07f3efbfb5",
       "version_major": 2,
       "version_minor": 0
      },
      "text/plain": [
       "vocab.txt:   0%|          | 0.00/232k [00:00<?, ?B/s]"
      ]
     },
     "metadata": {},
     "output_type": "display_data"
    },
    {
     "data": {
      "application/vnd.jupyter.widget-view+json": {
       "model_id": "fcbd40612f2f446e9906cf0d583ddd97",
       "version_major": 2,
       "version_minor": 0
      },
      "text/plain": [
       "tokenizer.json:   0%|          | 0.00/466k [00:00<?, ?B/s]"
      ]
     },
     "metadata": {},
     "output_type": "display_data"
    },
    {
     "data": {
      "application/vnd.jupyter.widget-view+json": {
       "model_id": "88401dd197c4452a8cf833167286877c",
       "version_major": 2,
       "version_minor": 0
      },
      "text/plain": [
       "special_tokens_map.json:   0%|          | 0.00/112 [00:00<?, ?B/s]"
      ]
     },
     "metadata": {},
     "output_type": "display_data"
    },
    {
     "data": {
      "application/vnd.jupyter.widget-view+json": {
       "model_id": "9187d7ac2f2442c8aac7b99f8ac79e7f",
       "version_major": 2,
       "version_minor": 0
      },
      "text/plain": [
       "1_Pooling/config.json:   0%|          | 0.00/190 [00:00<?, ?B/s]"
      ]
     },
     "metadata": {},
     "output_type": "display_data"
    }
   ],
   "source": [
    "# Create (or load) a Chroma database\n",
    "client = chromadb.Client(\n",
    "    Settings(\n",
    "        chroma_db_impl=\"duckdb+parquet\",\n",
    "        persist_directory=\"chroma_db\"  # Directory to store Chroma data\n",
    "    )\n",
    ")\n",
    "\n",
    "collection_name = \"hotpotqa_docs\"\n",
    "# Clean up if collection exists\n",
    "if collection_name in [c.name for c in client.list_collections()]:\n",
    "    client.delete_collection(name=collection_name)\n",
    "\n",
    "hotpot_collection = client.create_collection(name=collection_name)\n",
    "\n",
    "# Load a Sentence Transformer for embeddings\n",
    "embedding_model = SentenceTransformer(\"sentence-transformers/all-MiniLM-L6-v2\")\n"
   ]
  },
  {
   "cell_type": "code",
   "execution_count": 4,
   "metadata": {},
   "outputs": [
    {
     "data": {
      "application/vnd.jupyter.widget-view+json": {
       "model_id": "29f3f595d0f54098822f60d0fa2ef47d",
       "version_major": 2,
       "version_minor": 0
      },
      "text/plain": [
       "README.md:   0%|          | 0.00/9.19k [00:00<?, ?B/s]"
      ]
     },
     "metadata": {},
     "output_type": "display_data"
    },
    {
     "data": {
      "application/vnd.jupyter.widget-view+json": {
       "model_id": "b24c6d1adf404f648422974b8246bbb4",
       "version_major": 2,
       "version_minor": 0
      },
      "text/plain": [
       "hotpot_qa.py:   0%|          | 0.00/6.42k [00:00<?, ?B/s]"
      ]
     },
     "metadata": {},
     "output_type": "display_data"
    },
    {
     "data": {
      "application/vnd.jupyter.widget-view+json": {
       "model_id": "19d920c77586481da57c1aadc7f98ace",
       "version_major": 2,
       "version_minor": 0
      },
      "text/plain": [
       "Downloading data:   0%|          | 0.00/566M [00:00<?, ?B/s]"
      ]
     },
     "metadata": {},
     "output_type": "display_data"
    },
    {
     "data": {
      "application/vnd.jupyter.widget-view+json": {
       "model_id": "fc58f33e6d2b4856a94c27b7c91a994d",
       "version_major": 2,
       "version_minor": 0
      },
      "text/plain": [
       "Downloading data:   0%|          | 0.00/47.5M [00:00<?, ?B/s]"
      ]
     },
     "metadata": {},
     "output_type": "display_data"
    },
    {
     "data": {
      "application/vnd.jupyter.widget-view+json": {
       "model_id": "0c4bc08db9af4862b4cf2a1b68cded28",
       "version_major": 2,
       "version_minor": 0
      },
      "text/plain": [
       "Downloading data:   0%|          | 0.00/46.2M [00:00<?, ?B/s]"
      ]
     },
     "metadata": {},
     "output_type": "display_data"
    },
    {
     "data": {
      "application/vnd.jupyter.widget-view+json": {
       "model_id": "d1610fb8725e4bc4a954719c76b61001",
       "version_major": 2,
       "version_minor": 0
      },
      "text/plain": [
       "Generating train split:   0%|          | 0/90447 [00:00<?, ? examples/s]"
      ]
     },
     "metadata": {},
     "output_type": "display_data"
    },
    {
     "data": {
      "application/vnd.jupyter.widget-view+json": {
       "model_id": "43862fab4b04418fa5375c0378621ac1",
       "version_major": 2,
       "version_minor": 0
      },
      "text/plain": [
       "Generating validation split:   0%|          | 0/7405 [00:00<?, ? examples/s]"
      ]
     },
     "metadata": {},
     "output_type": "display_data"
    },
    {
     "data": {
      "application/vnd.jupyter.widget-view+json": {
       "model_id": "dcfa21b366874f5c8d1e703e76ae8799",
       "version_major": 2,
       "version_minor": 0
      },
      "text/plain": [
       "Generating test split:   0%|          | 0/7405 [00:00<?, ? examples/s]"
      ]
     },
     "metadata": {},
     "output_type": "display_data"
    },
    {
     "name": "stdout",
     "output_type": "stream",
     "text": [
      "Using 300 samples from HotpotQA fullwiki.\n"
     ]
    }
   ],
   "source": [
    "# Load dataset\n",
    "dataset = load_dataset(\"hotpot_qa\", \"fullwiki\")\n",
    "train_data = dataset[\"train\"]\n",
    "\n",
    "# For demonstration, limit the data\n",
    "MAX_SAMPLES = 300\n",
    "train_data = train_data.select(range(min(MAX_SAMPLES, len(train_data))))\n",
    "print(f\"Using {len(train_data)} samples from HotpotQA fullwiki.\")\n"
   ]
  },
  {
   "cell_type": "code",
   "execution_count": 5,
   "metadata": {},
   "outputs": [],
   "source": [
    "def chunk_text(text: str, chunk_size: int = 200) -> List[str]:\n",
    "    \"\"\"\n",
    "    Simple function to chunk text into segments of ~chunk_size words.\n",
    "    \"\"\"\n",
    "    words = text.split()\n",
    "    chunks = []\n",
    "    for i in range(0, len(words), chunk_size):\n",
    "        chunk = \" \".join(words[i:i+chunk_size])\n",
    "        chunks.append(chunk)\n",
    "    return chunks\n"
   ]
  },
  {
   "cell_type": "code",
   "execution_count": 6,
   "metadata": {},
   "outputs": [
    {
     "ename": "ValueError",
     "evalue": "too many values to unpack (expected 2)",
     "output_type": "error",
     "traceback": [
      "\u001b[0;31m---------------------------------------------------------------------------\u001b[0m",
      "\u001b[0;31mValueError\u001b[0m                                Traceback (most recent call last)",
      "Cell \u001b[0;32mIn[6], line 7\u001b[0m\n\u001b[1;32m      5\u001b[0m \u001b[38;5;28;01mfor\u001b[39;00m example \u001b[38;5;129;01min\u001b[39;00m train_data:\n\u001b[1;32m      6\u001b[0m     context_list \u001b[38;5;241m=\u001b[39m example[\u001b[38;5;124m\"\u001b[39m\u001b[38;5;124mcontext\u001b[39m\u001b[38;5;124m\"\u001b[39m]  \u001b[38;5;66;03m# List of [title, [sentences]]\u001b[39;00m\n\u001b[0;32m----> 7\u001b[0m     \u001b[38;5;28;01mfor\u001b[39;00m (title, sentences) \u001b[38;5;129;01min\u001b[39;00m context_list:\n\u001b[1;32m      8\u001b[0m         \u001b[38;5;28;01mfor\u001b[39;00m sentence \u001b[38;5;129;01min\u001b[39;00m sentences:\n\u001b[1;32m      9\u001b[0m             \u001b[38;5;66;03m# Optionally chunk each sentence\u001b[39;00m\n\u001b[1;32m     10\u001b[0m             splitted \u001b[38;5;241m=\u001b[39m chunk_text(sentence, chunk_size\u001b[38;5;241m=\u001b[39m\u001b[38;5;241m50\u001b[39m)\n",
      "\u001b[0;31mValueError\u001b[0m: too many values to unpack (expected 2)"
     ]
    }
   ],
   "source": [
    "doc_id_counter = 0\n",
    "all_texts = []\n",
    "all_ids = []\n",
    "\n",
    "for example in train_data:\n",
    "    context_list = example[\"context\"]  # List of [title, [sentences]]\n",
    "    for (title, sentences) in context_list:\n",
    "        for sentence in sentences:\n",
    "            # Optionally chunk each sentence\n",
    "            splitted = chunk_text(sentence, chunk_size=50)\n",
    "            for chunk in splitted:\n",
    "                doc_id_counter += 1\n",
    "                doc_id = f\"doc_{doc_id_counter}\"\n",
    "                all_texts.append(chunk)\n",
    "                all_ids.append(doc_id)\n",
    "\n",
    "# Compute embeddings\n",
    "BATCH_SIZE = 256\n",
    "all_embeddings = []\n",
    "for i in range(0, len(all_texts), BATCH_SIZE):\n",
    "    emb_batch = embedding_model.encode(all_texts[i:i+BATCH_SIZE], show_progress_bar=False).tolist()\n",
    "    all_embeddings.extend(emb_batch)\n",
    "\n",
    "# Insert into Chroma\n",
    "hotpot_collection.add(\n",
    "    documents=all_texts,\n",
    "    embeddings=all_embeddings,\n",
    "    ids=all_ids\n",
    ")\n",
    "\n",
    "print(f\"Inserted {len(all_texts)} total chunks into Chroma.\")\n"
   ]
  },
  {
   "cell_type": "code",
   "execution_count": 7,
   "metadata": {},
   "outputs": [
    {
     "data": {
      "text/plain": [
       "{'title': ['Radio City (Indian radio station)',\n",
       "  'History of Albanian football',\n",
       "  'Echosmith',\n",
       "  \"Women's colleges in the Southern United States\",\n",
       "  'First Arthur County Courthouse and Jail',\n",
       "  \"Arthur's Magazine\",\n",
       "  '2014–15 Ukrainian Hockey Championship',\n",
       "  'First for Women',\n",
       "  'Freeway Complex Fire',\n",
       "  'William Rast'],\n",
       " 'sentences': [[\"Radio City is India's first private FM radio station and was started on 3 July 2001.\",\n",
       "   ' It broadcasts on 91.1 (earlier 91.0 in most cities) megahertz from Mumbai (where it was started in 2004), Bengaluru (started first in 2001), Lucknow and New Delhi (since 2003).',\n",
       "   ' It plays Hindi, English and regional songs.',\n",
       "   ' It was launched in Hyderabad in March 2006, in Chennai on 7 July 2006 and in Visakhapatnam October 2007.',\n",
       "   ' Radio City recently forayed into New Media in May 2008 with the launch of a music portal - PlanetRadiocity.com that offers music related news, videos, songs, and other music-related features.',\n",
       "   ' The Radio station currently plays a mix of Hindi and Regional music.',\n",
       "   ' Abraham Thomas is the CEO of the company.'],\n",
       "  ['Football in Albania existed before the Albanian Football Federation (FSHF) was created.',\n",
       "   \" This was evidenced by the team's registration at the Balkan Cup tournament during 1929-1931, which started in 1929 (although Albania eventually had pressure from the teams because of competition, competition started first and was strong enough in the duels) .\",\n",
       "   ' Albanian National Team was founded on June 6, 1930, but Albania had to wait 16 years to play its first international match and then defeated Yugoslavia in 1946.',\n",
       "   ' In 1932, Albania joined FIFA (during the 12–16 June convention ) And in 1954 she was one of the founding members of UEFA.'],\n",
       "  ['Echosmith is an American, Corporate indie pop band formed in February 2009 in Chino, California.',\n",
       "   ' Originally formed as a quartet of siblings, the band currently consists of Sydney, Noah and Graham Sierota, following the departure of eldest sibling Jamie in late 2016.',\n",
       "   ' Echosmith started first as \"Ready Set Go!\"',\n",
       "   ' until they signed to Warner Bros.',\n",
       "   ' Records in May 2012.',\n",
       "   ' They are best known for their hit song \"Cool Kids\", which reached number 13 on the \"Billboard\" Hot 100 and was certified double platinum by the RIAA with over 1,200,000 sales in the United States and also double platinum by ARIA in Australia.',\n",
       "   ' The song was Warner Bros.',\n",
       "   \" Records' fifth-biggest-selling-digital song of 2014, with 1.3 million downloads sold.\",\n",
       "   ' The band\\'s debut album, \"Talking Dreams\", was released on October 8, 2013.'],\n",
       "  [\"Women's colleges in the Southern United States refers to undergraduate, bachelor's degree–granting institutions, often liberal arts colleges, whose student populations consist exclusively or almost exclusively of women, located in the Southern United States.\",\n",
       "   \" Many started first as girls' seminaries or academies.\",\n",
       "   ' Salem College is the oldest female educational institution in the South and Wesleyan College is the first that was established specifically as a college for women.',\n",
       "   ' Some schools, such as Mary Baldwin University and Salem College, offer coeducational courses at the graduate level.'],\n",
       "  ['The First Arthur County Courthouse and Jail, was perhaps the smallest court house in the United States, and serves now as a museum.'],\n",
       "  [\"Arthur's Magazine (1844–1846) was an American literary periodical published in Philadelphia in the 19th century.\",\n",
       "   ' Edited by T.S. Arthur, it featured work by Edgar A. Poe, J.H. Ingraham, Sarah Josepha Hale, Thomas G. Spear, and others.',\n",
       "   ' In May 1846 it was merged into \"Godey\\'s Lady\\'s Book\".'],\n",
       "  ['The 2014–15 Ukrainian Hockey Championship was the 23rd season of the Ukrainian Hockey Championship.',\n",
       "   ' Only four teams participated in the league this season, because of the instability in Ukraine and that most of the clubs had economical issues.',\n",
       "   ' Generals Kiev was the only team that participated in the league the previous season, and the season started first after the year-end of 2014.',\n",
       "   ' The regular season included just 12 rounds, where all the teams went to the semifinals.',\n",
       "   ' In the final, ATEK Kiev defeated the regular season winner HK Kremenchuk.'],\n",
       "  [\"First for Women is a woman's magazine published by Bauer Media Group in the USA.\",\n",
       "   ' The magazine was started in 1989.',\n",
       "   ' It is based in Englewood Cliffs, New Jersey.',\n",
       "   ' In 2011 the circulation of the magazine was 1,310,696 copies.'],\n",
       "  ['The Freeway Complex Fire was a 2008 wildfire in the Santa Ana Canyon area of Orange County, California.',\n",
       "   ' The fire started as two separate fires on November 15, 2008.',\n",
       "   ' The \"Freeway Fire\" started first shortly after 9am with the \"Landfill Fire\" igniting approximately 2 hours later.',\n",
       "   ' These two separate fires merged a day later and ultimately destroyed 314 residences in Anaheim Hills and Yorba Linda.'],\n",
       "  ['William Rast is an American clothing line founded by Justin Timberlake and Trace Ayala.',\n",
       "   ' It is most known for their premium jeans.',\n",
       "   ' On October 17, 2006, Justin Timberlake and Trace Ayala put on their first fashion show to launch their new William Rast clothing line.',\n",
       "   ' The label also produces other clothing items such as jackets and tops.',\n",
       "   ' The company started first as a denim line, later evolving into a men’s and women’s clothing line.']]}"
      ]
     },
     "execution_count": 7,
     "metadata": {},
     "output_type": "execute_result"
    }
   ],
   "source": [
    "context_list"
   ]
  },
  {
   "cell_type": "code",
   "execution_count": 4,
   "metadata": {},
   "outputs": [],
   "source": [
    "r = ollama.embed(\n",
    "  model='bge-m3',\n",
    "  input='Llamas are members of the camelid family',\n",
    ")"
   ]
  },
  {
   "cell_type": "code",
   "execution_count": 9,
   "metadata": {},
   "outputs": [
    {
     "ename": "AttributeError",
     "evalue": "'list' object has no attribute 'shape'",
     "output_type": "error",
     "traceback": [
      "\u001b[0;31m---------------------------------------------------------------------------\u001b[0m",
      "\u001b[0;31mAttributeError\u001b[0m                            Traceback (most recent call last)",
      "Cell \u001b[0;32mIn[9], line 1\u001b[0m\n\u001b[0;32m----> 1\u001b[0m \u001b[43mr\u001b[49m\u001b[43m[\u001b[49m\u001b[38;5;124;43m'\u001b[39;49m\u001b[38;5;124;43membeddings\u001b[39;49m\u001b[38;5;124;43m'\u001b[39;49m\u001b[43m]\u001b[49m\u001b[43m[\u001b[49m\u001b[38;5;241;43m0\u001b[39;49m\u001b[43m]\u001b[49m\u001b[38;5;241;43m.\u001b[39;49m\u001b[43mshape\u001b[49m\n",
      "\u001b[0;31mAttributeError\u001b[0m: 'list' object has no attribute 'shape'"
     ]
    }
   ],
   "source": [
    "r['embeddings'][0]"
   ]
  },
  {
   "cell_type": "code",
   "execution_count": null,
   "metadata": {},
   "outputs": [],
   "source": []
  }
 ],
 "metadata": {
  "kernelspec": {
   "display_name": "pychan",
   "language": "python",
   "name": "python3"
  },
  "language_info": {
   "codemirror_mode": {
    "name": "ipython",
    "version": 3
   },
   "file_extension": ".py",
   "mimetype": "text/x-python",
   "name": "python",
   "nbconvert_exporter": "python",
   "pygments_lexer": "ipython3",
   "version": "3.12.2"
  }
 },
 "nbformat": 4,
 "nbformat_minor": 2
}
