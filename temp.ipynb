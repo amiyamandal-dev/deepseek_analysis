{
 "cells": [
  {
   "cell_type": "code",
   "execution_count": 61,
   "metadata": {},
   "outputs": [
    {
     "name": "stdout",
     "output_type": "stream",
     "text": [
      "Hello! How can I assist you today? 😊\n"
     ]
    }
   ],
   "source": [
    "# Please install OpenAI SDK first: `pip3 install openai`\n",
    "import dotenv\n",
    "from openai import OpenAI\n",
    "import os\n",
    "\n",
    "dotenv.load_dotenv()\n",
    "\n",
    "client = OpenAI(api_key=os.environ['API_KEY'], base_url=\"https://api.deepseek.com\")\n",
    "\n",
    "response = client.chat.completions.create(\n",
    "    model=\"deepseek-chat\",\n",
    "    messages=[\n",
    "        {\"role\": \"system\", \"content\": \"You are a helpful assistant\"},\n",
    "        {\"role\": \"user\", \"content\": \"Hello\"},\n",
    "    ],\n",
    "    stream=False\n",
    ")\n",
    "\n",
    "print(response.choices[0].message.content)"
   ]
  },
  {
   "cell_type": "code",
   "execution_count": 4,
   "metadata": {},
   "outputs": [
    {
     "name": "stdout",
     "output_type": "stream",
     "text": [
      "Requirement already satisfied: langchain_community in /opt/miniconda3/envs/pychan/lib/python3.12/site-packages (0.3.16)\n",
      "Requirement already satisfied: pypdf in /opt/miniconda3/envs/pychan/lib/python3.12/site-packages (5.2.0)\n",
      "Requirement already satisfied: PyYAML>=5.3 in /opt/miniconda3/envs/pychan/lib/python3.12/site-packages (from langchain_community) (6.0.2)\n",
      "Requirement already satisfied: SQLAlchemy<3,>=1.4 in /opt/miniconda3/envs/pychan/lib/python3.12/site-packages (from langchain_community) (2.0.37)\n",
      "Requirement already satisfied: aiohttp<4.0.0,>=3.8.3 in /opt/miniconda3/envs/pychan/lib/python3.12/site-packages (from langchain_community) (3.11.11)\n",
      "Requirement already satisfied: dataclasses-json<0.7,>=0.5.7 in /opt/miniconda3/envs/pychan/lib/python3.12/site-packages (from langchain_community) (0.6.7)\n",
      "Requirement already satisfied: httpx-sse<0.5.0,>=0.4.0 in /opt/miniconda3/envs/pychan/lib/python3.12/site-packages (from langchain_community) (0.4.0)\n",
      "Requirement already satisfied: langchain<0.4.0,>=0.3.16 in /opt/miniconda3/envs/pychan/lib/python3.12/site-packages (from langchain_community) (0.3.17)\n",
      "Requirement already satisfied: langchain-core<0.4.0,>=0.3.32 in /opt/miniconda3/envs/pychan/lib/python3.12/site-packages (from langchain_community) (0.3.33)\n",
      "Requirement already satisfied: langsmith<0.4,>=0.1.125 in /opt/miniconda3/envs/pychan/lib/python3.12/site-packages (from langchain_community) (0.3.3)\n",
      "Requirement already satisfied: numpy<3,>=1.26.2 in /opt/miniconda3/envs/pychan/lib/python3.12/site-packages (from langchain_community) (2.2.2)\n",
      "Requirement already satisfied: pydantic-settings<3.0.0,>=2.4.0 in /opt/miniconda3/envs/pychan/lib/python3.12/site-packages (from langchain_community) (2.7.1)\n",
      "Requirement already satisfied: requests<3,>=2 in /opt/miniconda3/envs/pychan/lib/python3.12/site-packages (from langchain_community) (2.32.3)\n",
      "Requirement already satisfied: tenacity!=8.4.0,<10,>=8.1.0 in /opt/miniconda3/envs/pychan/lib/python3.12/site-packages (from langchain_community) (9.0.0)\n",
      "Requirement already satisfied: aiohappyeyeballs>=2.3.0 in /opt/miniconda3/envs/pychan/lib/python3.12/site-packages (from aiohttp<4.0.0,>=3.8.3->langchain_community) (2.4.4)\n",
      "Requirement already satisfied: aiosignal>=1.1.2 in /opt/miniconda3/envs/pychan/lib/python3.12/site-packages (from aiohttp<4.0.0,>=3.8.3->langchain_community) (1.3.2)\n",
      "Requirement already satisfied: attrs>=17.3.0 in /opt/miniconda3/envs/pychan/lib/python3.12/site-packages (from aiohttp<4.0.0,>=3.8.3->langchain_community) (25.1.0)\n",
      "Requirement already satisfied: frozenlist>=1.1.1 in /opt/miniconda3/envs/pychan/lib/python3.12/site-packages (from aiohttp<4.0.0,>=3.8.3->langchain_community) (1.5.0)\n",
      "Requirement already satisfied: multidict<7.0,>=4.5 in /opt/miniconda3/envs/pychan/lib/python3.12/site-packages (from aiohttp<4.0.0,>=3.8.3->langchain_community) (6.1.0)\n",
      "Requirement already satisfied: propcache>=0.2.0 in /opt/miniconda3/envs/pychan/lib/python3.12/site-packages (from aiohttp<4.0.0,>=3.8.3->langchain_community) (0.2.1)\n",
      "Requirement already satisfied: yarl<2.0,>=1.17.0 in /opt/miniconda3/envs/pychan/lib/python3.12/site-packages (from aiohttp<4.0.0,>=3.8.3->langchain_community) (1.18.3)\n",
      "Requirement already satisfied: marshmallow<4.0.0,>=3.18.0 in /opt/miniconda3/envs/pychan/lib/python3.12/site-packages (from dataclasses-json<0.7,>=0.5.7->langchain_community) (3.26.0)\n",
      "Requirement already satisfied: typing-inspect<1,>=0.4.0 in /opt/miniconda3/envs/pychan/lib/python3.12/site-packages (from dataclasses-json<0.7,>=0.5.7->langchain_community) (0.9.0)\n",
      "Requirement already satisfied: langchain-text-splitters<0.4.0,>=0.3.3 in /opt/miniconda3/envs/pychan/lib/python3.12/site-packages (from langchain<0.4.0,>=0.3.16->langchain_community) (0.3.5)\n",
      "Requirement already satisfied: pydantic<3.0.0,>=2.7.4 in /opt/miniconda3/envs/pychan/lib/python3.12/site-packages (from langchain<0.4.0,>=0.3.16->langchain_community) (2.10.1)\n",
      "Requirement already satisfied: jsonpatch<2.0,>=1.33 in /opt/miniconda3/envs/pychan/lib/python3.12/site-packages (from langchain-core<0.4.0,>=0.3.32->langchain_community) (1.33)\n",
      "Requirement already satisfied: packaging<25,>=23.2 in /opt/miniconda3/envs/pychan/lib/python3.12/site-packages (from langchain-core<0.4.0,>=0.3.32->langchain_community) (24.2)\n",
      "Requirement already satisfied: typing-extensions>=4.7 in /opt/miniconda3/envs/pychan/lib/python3.12/site-packages (from langchain-core<0.4.0,>=0.3.32->langchain_community) (4.12.2)\n",
      "Requirement already satisfied: httpx<1,>=0.23.0 in /opt/miniconda3/envs/pychan/lib/python3.12/site-packages (from langsmith<0.4,>=0.1.125->langchain_community) (0.28.1)\n",
      "Requirement already satisfied: orjson<4.0.0,>=3.9.14 in /opt/miniconda3/envs/pychan/lib/python3.12/site-packages (from langsmith<0.4,>=0.1.125->langchain_community) (3.10.15)\n",
      "Requirement already satisfied: requests-toolbelt<2.0.0,>=1.0.0 in /opt/miniconda3/envs/pychan/lib/python3.12/site-packages (from langsmith<0.4,>=0.1.125->langchain_community) (1.0.0)\n",
      "Requirement already satisfied: zstandard<0.24.0,>=0.23.0 in /opt/miniconda3/envs/pychan/lib/python3.12/site-packages (from langsmith<0.4,>=0.1.125->langchain_community) (0.23.0)\n",
      "Requirement already satisfied: python-dotenv>=0.21.0 in /opt/miniconda3/envs/pychan/lib/python3.12/site-packages (from pydantic-settings<3.0.0,>=2.4.0->langchain_community) (1.0.1)\n",
      "Requirement already satisfied: charset-normalizer<4,>=2 in /opt/miniconda3/envs/pychan/lib/python3.12/site-packages (from requests<3,>=2->langchain_community) (3.4.1)\n",
      "Requirement already satisfied: idna<4,>=2.5 in /opt/miniconda3/envs/pychan/lib/python3.12/site-packages (from requests<3,>=2->langchain_community) (3.10)\n",
      "Requirement already satisfied: urllib3<3,>=1.21.1 in /opt/miniconda3/envs/pychan/lib/python3.12/site-packages (from requests<3,>=2->langchain_community) (2.3.0)\n",
      "Requirement already satisfied: certifi>=2017.4.17 in /opt/miniconda3/envs/pychan/lib/python3.12/site-packages (from requests<3,>=2->langchain_community) (2024.12.14)\n",
      "Requirement already satisfied: anyio in /opt/miniconda3/envs/pychan/lib/python3.12/site-packages (from httpx<1,>=0.23.0->langsmith<0.4,>=0.1.125->langchain_community) (4.8.0)\n",
      "Requirement already satisfied: httpcore==1.* in /opt/miniconda3/envs/pychan/lib/python3.12/site-packages (from httpx<1,>=0.23.0->langsmith<0.4,>=0.1.125->langchain_community) (1.0.7)\n",
      "Requirement already satisfied: h11<0.15,>=0.13 in /opt/miniconda3/envs/pychan/lib/python3.12/site-packages (from httpcore==1.*->httpx<1,>=0.23.0->langsmith<0.4,>=0.1.125->langchain_community) (0.14.0)\n",
      "Requirement already satisfied: jsonpointer>=1.9 in /opt/miniconda3/envs/pychan/lib/python3.12/site-packages (from jsonpatch<2.0,>=1.33->langchain-core<0.4.0,>=0.3.32->langchain_community) (3.0.0)\n",
      "Requirement already satisfied: annotated-types>=0.6.0 in /opt/miniconda3/envs/pychan/lib/python3.12/site-packages (from pydantic<3.0.0,>=2.7.4->langchain<0.4.0,>=0.3.16->langchain_community) (0.7.0)\n",
      "Requirement already satisfied: pydantic-core==2.27.1 in /opt/miniconda3/envs/pychan/lib/python3.12/site-packages (from pydantic<3.0.0,>=2.7.4->langchain<0.4.0,>=0.3.16->langchain_community) (2.27.1)\n",
      "Requirement already satisfied: mypy-extensions>=0.3.0 in /opt/miniconda3/envs/pychan/lib/python3.12/site-packages (from typing-inspect<1,>=0.4.0->dataclasses-json<0.7,>=0.5.7->langchain_community) (1.0.0)\n",
      "Requirement already satisfied: sniffio>=1.1 in /opt/miniconda3/envs/pychan/lib/python3.12/site-packages (from anyio->httpx<1,>=0.23.0->langsmith<0.4,>=0.1.125->langchain_community) (1.3.1)\n"
     ]
    }
   ],
   "source": [
    "!pip install langchain_community pypdf"
   ]
  },
  {
   "cell_type": "code",
   "execution_count": 8,
   "metadata": {},
   "outputs": [],
   "source": [
    "from langchain_community.document_loaders import PyPDFLoader\n",
    "from langchain_text_splitters import RecursiveCharacterTextSplitter\n",
    "from typing import List\n",
    "    \n",
    "    "
   ]
  },
  {
   "cell_type": "code",
   "execution_count": 9,
   "metadata": {},
   "outputs": [],
   "source": [
    "\n",
    "def extract_pdf_with_metadata(file_paths: List[str]):\n",
    "    data_final_list = []\n",
    "    for file_path in file_paths:\n",
    "        if not file_path.endswith(\".pdf\"):\n",
    "            raise ValueError(\"Only PDF files are supported\")\n",
    "        loader = PyPDFLoader(file_path)\n",
    "        pages = loader.load_and_split()\n",
    "        data =  [\n",
    "            {\n",
    "                \"content\": page.page_content,\n",
    "                \"metadata\": {\n",
    "                    \"page\": page.metadata[\"page\"],\n",
    "                    \"source\": file_path\n",
    "                }\n",
    "            }\n",
    "            for page in pages\n",
    "        ]\n",
    "        data_final_list.extend(data)\n",
    "    return data_final_list\n"
   ]
  },
  {
   "cell_type": "code",
   "execution_count": 10,
   "metadata": {},
   "outputs": [
    {
     "name": "stdout",
     "output_type": "stream",
     "text": [
      "['data/aami-home-building-insurance-pds.pdf', 'data/aami-comprehensive-car-insurance-pds.pdf']\n"
     ]
    }
   ],
   "source": [
    "import os\n",
    "\n",
    "def get_all_files(file_path: str):\n",
    "    if not os.path.isdir(file_path):\n",
    "        raise ValueError(\"The provided path is not a directory\")\n",
    "    return [os.path.join(file_path, f) for f in os.listdir(file_path) if os.path.isfile(os.path.join(file_path, f))]\n",
    "\n",
    "# Example usage\n",
    "file_path = \"data/\"\n",
    "all_files = get_all_files(file_path)\n",
    "print(all_files)"
   ]
  },
  {
   "cell_type": "code",
   "execution_count": 11,
   "metadata": {},
   "outputs": [],
   "source": [
    "all_pages = extract_pdf_with_metadata(all_files)"
   ]
  },
  {
   "cell_type": "code",
   "execution_count": 13,
   "metadata": {},
   "outputs": [
    {
     "data": {
      "text/plain": [
       "{'content': 'HOME  \\nBUILDING  \\nINSURANCE\\nPRODUCT  \\nDISCLOSURE  \\nSTATEMENT',\n",
       " 'metadata': {'page': 0,\n",
       "  'source': 'data/aami-home-building-insurance-pds.pdf'}}"
      ]
     },
     "execution_count": 13,
     "metadata": {},
     "output_type": "execute_result"
    }
   ],
   "source": [
    "all_pages[0]"
   ]
  },
  {
   "cell_type": "code",
   "execution_count": 15,
   "metadata": {},
   "outputs": [],
   "source": [
    "from langchain.prompts import PromptTemplate\n",
    "\n",
    "# Define the prompt template\n",
    "template = \"\"\"\n",
    "You are a helpful assistant. Please summarize the following content by identifying and focusing on the most important topics. Think through the key points step by step before providing the summary.\n",
    "\n",
    "**Content:**\n",
    "{content}\n",
    "\n",
    "**Chain of Thought:**\n",
    "1. Identify the main themes or topics discussed in the content.\n",
    "2. Highlight the key points related to each main topic.\n",
    "3. Condense the highlighted points into a coherent summary.\n",
    "\n",
    "**Summary:**\n",
    "\"\"\"\n",
    "\n",
    "# Create a PromptTemplate instance\n",
    "prompt_template = PromptTemplate(input_variables=[\"content\"], template=template)\n"
   ]
  },
  {
   "cell_type": "code",
   "execution_count": 22,
   "metadata": {},
   "outputs": [],
   "source": [
    "import tqdm\n",
    "import ollama"
   ]
  },
  {
   "cell_type": "code",
   "execution_count": 25,
   "metadata": {},
   "outputs": [
    {
     "name": "stderr",
     "output_type": "stream",
     "text": [
      "100%|██████████| 180/180 [36:53<00:00, 12.30s/it]\n"
     ]
    }
   ],
   "source": [
    "for page in tqdm.tqdm(all_pages):\n",
    "    response = ollama.generate(model='deepseek-r1:8b', prompt=prompt_template.format(content=page[\"content\"]))\n",
    "    page[\"summary\"] = response.response"
   ]
  },
  {
   "cell_type": "code",
   "execution_count": 29,
   "metadata": {},
   "outputs": [
    {
     "data": {
      "text/plain": [
       "{'content': '7\\nWhat we cover\\nInsured events\\nWe cover the building for loss or damage caused by specific events like \\nstorms, floods, and fires (including bushfires).\\nLegal liability\\nWe cover your legal liability to pay compensation for death, or bodily injury \\nto other people (not you), or loss or damage to their property, in certain \\nsituations.\\nAdditional cover that comes with your policy\\nThere are some additional covers that come with your policy for no extra cost. \\nSee section 5 ‘Additional cover that comes with your policy’ on page 53 for \\nmore information.\\nOptional cover you can pay extra for\\nThere are some optional covers that you’ll have to pay extra for. If an optional \\ncover applies to your policy, it’s shown on your certificate of insurance. \\nSee section 6 ‘Optional cover you can pay extra for’ on page 67 for more \\ninformation.',\n",
       " 'metadata': {'page': 6,\n",
       "  'source': 'data/aami-home-building-insurance-pds.pdf'},\n",
       " 'summary': '<think>\\nOkay, so I\\'m trying to summarize this insurance policy document. Let me read through it carefully. The first thing I notice is that it starts with the number 7, which might be a section heading or something else. Then it talks about \"What we cover,\" listing insured events like storms, floods, and fires, including bushfires. So, the building is covered for loss or damage from these specific events.\\n\\nNext, there\\'s a section on legal liability. It mentions covering legal liabilities where the policyholder might have to pay compensation for death or bodily injury to others or loss/damage to their property in certain situations.\\n\\nThen it moves on to additional covers that come with the policy at no extra cost, directing readers to page 53 for more info. After that, there are optional covers that require paying extra, shown on the certificate of insurance, and they refer to section 6 on page 67.\\n\\nSo, breaking this down, the main topics seem to be what\\'s covered by the base policy and additional or optional covers. The key points under \"What we cover\" are specific perils like storms, floods, fires. Legal liability is another main point, covering third-party incidents with certain conditions. Then there are two types of additional covers: mandatory ones included for free and optional ones that require extra payment.\\n\\nI need to make sure the summary captures these elements clearly without getting too detailed. Maybe structure it as a list where each main topic has its key points.\\n</think>\\n\\nThe insurance policy document outlines coverage under three main categories:\\n\\n1. **Insured Events**: The base policy covers loss or damage to the building due to specific events such as storms, floods, and fires (including bushfires).\\n\\n2. **Legal Liability**: The policy provides coverage for legal liabilities where the policyholder may need to pay compensation for third-party death, bodily injury, or property damage in certain situations.\\n\\n3. **Additional Covers**:\\n   - **Included Covers**: Additional covers are provided at no extra cost, detailed on page 53.\\n   - **Optional Covers**: These require an additional payment and are listed on the certificate of insurance, with further information available on page 67.\\n\\nThis summary highlights the core coverage areas and additional considerations for the policyholder.'}"
      ]
     },
     "execution_count": 29,
     "metadata": {},
     "output_type": "execute_result"
    }
   ],
   "source": [
    "all_pages[6]"
   ]
  },
  {
   "cell_type": "code",
   "execution_count": 28,
   "metadata": {},
   "outputs": [
    {
     "name": "stdout",
     "output_type": "stream",
     "text": [
      "Looking in indexes: https://pypi.org/simple, https://pypi.fury.io/lancedb/\n",
      "Collecting lancedb\n",
      "  Downloading https://pypi.fury.io/lancedb/-/ver_24PuN2/lancedb-0.18.1b2-cp39-abi3-macosx_11_0_arm64.whl (27.0 MB)\n",
      "\u001b[2K     \u001b[38;2;114;156;31m━━━━━━━━━━━━━━━━━━━━━━━━━━━━━━━━━━━━━━━━\u001b[0m \u001b[32m27.0/27.0 MB\u001b[0m \u001b[31m9.2 MB/s\u001b[0m eta \u001b[36m0:00:00\u001b[0mm eta \u001b[36m0:00:01\u001b[0m[36m0:00:01\u001b[0m\n",
      "\u001b[?25hCollecting deprecation (from lancedb)\n",
      "  Using cached deprecation-2.1.0-py2.py3-none-any.whl.metadata (4.6 kB)\n",
      "Collecting pylance==0.23.0b3 (from lancedb)\n",
      "  Downloading https://pypi.fury.io/lancedb/-/ver_1zJrzG/pylance-0.23.0b3-cp39-abi3-macosx_11_0_arm64.whl (33.0 MB)\n",
      "\u001b[2K     \u001b[38;2;114;156;31m━━━━━━━━━━━━━━━━━━━━━━━━━━━━━━━━━━━━━━━━\u001b[0m \u001b[32m33.0/33.0 MB\u001b[0m \u001b[31m9.4 MB/s\u001b[0m eta \u001b[36m0:00:00\u001b[0m MB/s\u001b[0m eta \u001b[36m0:00:01\u001b[0m:01\u001b[0m\n",
      "\u001b[?25hRequirement already satisfied: tqdm>=4.27.0 in /opt/miniconda3/envs/pychan/lib/python3.12/site-packages (from lancedb) (4.67.1)\n",
      "Requirement already satisfied: pydantic>=1.10 in /opt/miniconda3/envs/pychan/lib/python3.12/site-packages (from lancedb) (2.10.1)\n",
      "Requirement already satisfied: packaging in /opt/miniconda3/envs/pychan/lib/python3.12/site-packages (from lancedb) (24.2)\n",
      "Requirement already satisfied: overrides>=0.7 in /opt/miniconda3/envs/pychan/lib/python3.12/site-packages (from lancedb) (7.7.0)\n",
      "Collecting pyarrow>=14 (from pylance==0.23.0b3->lancedb)\n",
      "  Downloading pyarrow-19.0.0-cp312-cp312-macosx_12_0_arm64.whl.metadata (3.3 kB)\n",
      "Requirement already satisfied: numpy>=1.22 in /opt/miniconda3/envs/pychan/lib/python3.12/site-packages (from pylance==0.23.0b3->lancedb) (2.2.2)\n",
      "Requirement already satisfied: annotated-types>=0.6.0 in /opt/miniconda3/envs/pychan/lib/python3.12/site-packages (from pydantic>=1.10->lancedb) (0.7.0)\n",
      "Requirement already satisfied: pydantic-core==2.27.1 in /opt/miniconda3/envs/pychan/lib/python3.12/site-packages (from pydantic>=1.10->lancedb) (2.27.1)\n",
      "Requirement already satisfied: typing-extensions>=4.12.2 in /opt/miniconda3/envs/pychan/lib/python3.12/site-packages (from pydantic>=1.10->lancedb) (4.12.2)\n",
      "Using cached deprecation-2.1.0-py2.py3-none-any.whl (11 kB)\n",
      "Downloading pyarrow-19.0.0-cp312-cp312-macosx_12_0_arm64.whl (30.7 MB)\n",
      "\u001b[2K   \u001b[38;2;114;156;31m━━━━━━━━━━━━━━━━━━━━━━━━━━━━━━━━━━━━━━━━\u001b[0m \u001b[32m30.7/30.7 MB\u001b[0m \u001b[31m11.3 MB/s\u001b[0m eta \u001b[36m0:00:00\u001b[0mm eta \u001b[36m0:00:01\u001b[0m0:01\u001b[0m:01\u001b[0m\n",
      "\u001b[?25hInstalling collected packages: pyarrow, deprecation, pylance, lancedb\n",
      "Successfully installed deprecation-2.1.0 lancedb-0.18.1b2 pyarrow-19.0.0 pylance-0.23.0b3\n"
     ]
    }
   ],
   "source": [
    "!pip install --pre --extra-index-url https://pypi.fury.io/lancedb/ lancedb\n"
   ]
  },
  {
   "cell_type": "code",
   "execution_count": 34,
   "metadata": {},
   "outputs": [],
   "source": [
    "import lancedb\n",
    "from lancedb.pydantic import LanceModel, Vector\n",
    "from lancedb.embeddings import get_registry\n",
    "from typing import Dict, Any, Optional"
   ]
  },
  {
   "cell_type": "code",
   "execution_count": 39,
   "metadata": {},
   "outputs": [],
   "source": [
    "db = lancedb.connect(\"db/temp\")\n",
    "\n",
    "embedding_func = get_registry().get(\"ollama\").create(name=\"mxbai-embed-large\")"
   ]
  },
  {
   "cell_type": "code",
   "execution_count": 41,
   "metadata": {},
   "outputs": [],
   "source": [
    "class Document(LanceModel):\n",
    "    content: str = embedding_func.SourceField()\n",
    "    vector: Vector(embedding_func.ndims()) = embedding_func.VectorField()\n",
    "    page: Optional[int] = None\n",
    "    source: Optional[str] = None\n",
    "    summary: str"
   ]
  },
  {
   "cell_type": "code",
   "execution_count": 42,
   "metadata": {},
   "outputs": [
    {
     "name": "stderr",
     "output_type": "stream",
     "text": [
      "[2025-01-30T07:22:28Z WARN  lance::dataset::write::insert] No existing dataset at /Volumes/ssd/deep_seek/db/temp/documents.lance, it will be created\n"
     ]
    }
   ],
   "source": [
    "table_name = \"documents\"\n",
    "table = db.create_table(table_name, schema=Document, mode=\"overwrite\")"
   ]
  },
  {
   "cell_type": "code",
   "execution_count": 59,
   "metadata": {},
   "outputs": [],
   "source": [
    "def insert_documents(documents: List[Dict[str, Any]]):\n",
    "    temp_list = []\n",
    "    for document in documents:\n",
    "        temp_list.append({\n",
    "            \"content\": document[\"content\"],\n",
    "            \"page\": document[\"metadata\"][\"page\"],\n",
    "            \"source\": document[\"metadata\"][\"source\"],\n",
    "            \"summary\": document[\"summary\"]\n",
    "        })\n",
    "    table.add(temp_list)"
   ]
  },
  {
   "cell_type": "code",
   "execution_count": 60,
   "metadata": {},
   "outputs": [],
   "source": [
    "insert_documents(all_pages)"
   ]
  },
  {
   "cell_type": "code",
   "execution_count": 1,
   "metadata": {},
   "outputs": [
    {
     "ename": "APIRemovedInV1",
     "evalue": "\n\nYou tried to access openai.Completion, but this is no longer supported in openai>=1.0.0 - see the README at https://github.com/openai/openai-python for the API.\n\nYou can run `openai migrate` to automatically upgrade your codebase to use the 1.0.0 interface. \n\nAlternatively, you can pin your installation to the old version, e.g. `pip install openai==0.28`\n\nA detailed migration guide is available here: https://github.com/openai/openai-python/discussions/742\n",
     "output_type": "error",
     "traceback": [
      "\u001b[0;31m---------------------------------------------------------------------------\u001b[0m",
      "\u001b[0;31mAPIRemovedInV1\u001b[0m                            Traceback (most recent call last)",
      "Cell \u001b[0;32mIn[1], line 10\u001b[0m\n\u001b[1;32m      7\u001b[0m prompt \u001b[38;5;241m=\u001b[39m \u001b[38;5;124m\"\u001b[39m\u001b[38;5;124mOnce upon a time\u001b[39m\u001b[38;5;124m\"\u001b[39m\n\u001b[1;32m      9\u001b[0m \u001b[38;5;66;03m# Generate a completion\u001b[39;00m\n\u001b[0;32m---> 10\u001b[0m response \u001b[38;5;241m=\u001b[39m \u001b[43mopenai\u001b[49m\u001b[38;5;241;43m.\u001b[39;49m\u001b[43mCompletion\u001b[49m\u001b[38;5;241;43m.\u001b[39;49m\u001b[43mcreate\u001b[49m\u001b[43m(\u001b[49m\n\u001b[1;32m     11\u001b[0m \u001b[43m    \u001b[49m\u001b[43mengine\u001b[49m\u001b[38;5;241;43m=\u001b[39;49m\u001b[38;5;124;43m\"\u001b[39;49m\u001b[38;5;124;43mgpt-4o-mini\u001b[39;49m\u001b[38;5;124;43m\"\u001b[39;49m\u001b[43m,\u001b[49m\n\u001b[1;32m     12\u001b[0m \u001b[43m    \u001b[49m\u001b[43mprompt\u001b[49m\u001b[38;5;241;43m=\u001b[39;49m\u001b[43mprompt\u001b[49m\u001b[43m,\u001b[49m\n\u001b[1;32m     13\u001b[0m \u001b[43m    \u001b[49m\u001b[43mmax_tokens\u001b[49m\u001b[38;5;241;43m=\u001b[39;49m\u001b[38;5;241;43m50\u001b[39;49m\n\u001b[1;32m     14\u001b[0m \u001b[43m)\u001b[49m\n\u001b[1;32m     16\u001b[0m \u001b[38;5;66;03m# Print the generated text\u001b[39;00m\n\u001b[1;32m     17\u001b[0m \u001b[38;5;28mprint\u001b[39m(response\u001b[38;5;241m.\u001b[39mchoices[\u001b[38;5;241m0\u001b[39m]\u001b[38;5;241m.\u001b[39mtext\u001b[38;5;241m.\u001b[39mstrip())\n",
      "File \u001b[0;32m/opt/miniconda3/envs/pychan/lib/python3.12/site-packages/openai/lib/_old_api.py:39\u001b[0m, in \u001b[0;36mAPIRemovedInV1Proxy.__call__\u001b[0;34m(self, *_args, **_kwargs)\u001b[0m\n\u001b[1;32m     38\u001b[0m \u001b[38;5;28;01mdef\u001b[39;00m\u001b[38;5;250m \u001b[39m\u001b[38;5;21m__call__\u001b[39m(\u001b[38;5;28mself\u001b[39m, \u001b[38;5;241m*\u001b[39m_args: Any, \u001b[38;5;241m*\u001b[39m\u001b[38;5;241m*\u001b[39m_kwargs: Any) \u001b[38;5;241m-\u001b[39m\u001b[38;5;241m>\u001b[39m Any:\n\u001b[0;32m---> 39\u001b[0m     \u001b[38;5;28;01mraise\u001b[39;00m APIRemovedInV1(symbol\u001b[38;5;241m=\u001b[39m\u001b[38;5;28mself\u001b[39m\u001b[38;5;241m.\u001b[39m_symbol)\n",
      "\u001b[0;31mAPIRemovedInV1\u001b[0m: \n\nYou tried to access openai.Completion, but this is no longer supported in openai>=1.0.0 - see the README at https://github.com/openai/openai-python for the API.\n\nYou can run `openai migrate` to automatically upgrade your codebase to use the 1.0.0 interface. \n\nAlternatively, you can pin your installation to the old version, e.g. `pip install openai==0.28`\n\nA detailed migration guide is available here: https://github.com/openai/openai-python/discussions/742\n"
     ]
    }
   ],
   "source": [
    "import openai\n",
    "\n",
    "# Set your OpenAI API key\n",
    "openai.api_key = ''\n",
    "\n",
    "# Define the prompt\n",
    "prompt = \"Once upon a time\"\n",
    "\n",
    "# Generate a completion\n",
    "response = openai.Completion.create(\n",
    "    engine=\"gpt-4o-mini\",\n",
    "    prompt=prompt,\n",
    "    max_tokens=50\n",
    ")\n",
    "\n",
    "# Print the generated text\n",
    "print(response.choices[0].text.strip())\n"
   ]
  },
  {
   "cell_type": "code",
   "execution_count": null,
   "metadata": {},
   "outputs": [],
   "source": []
  },
  {
   "cell_type": "code",
   "execution_count": null,
   "metadata": {},
   "outputs": [],
   "source": []
  }
 ],
 "metadata": {
  "kernelspec": {
   "display_name": "pychan",
   "language": "python",
   "name": "python3"
  },
  "language_info": {
   "codemirror_mode": {
    "name": "ipython",
    "version": 3
   },
   "file_extension": ".py",
   "mimetype": "text/x-python",
   "name": "python",
   "nbconvert_exporter": "python",
   "pygments_lexer": "ipython3",
   "version": "3.12.2"
  }
 },
 "nbformat": 4,
 "nbformat_minor": 2
}
